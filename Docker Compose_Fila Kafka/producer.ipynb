{
 "cells": [
  {
   "cell_type": "code",
   "execution_count": 1,
   "metadata": {},
   "outputs": [
    {
     "ename": "AttributeError",
     "evalue": "'cimpl.Producer' object has no attribute 'subscribe'",
     "output_type": "error",
     "traceback": [
      "\u001b[1;31m---------------------------------------------------------------------------\u001b[0m",
      "\u001b[1;31mAttributeError\u001b[0m                            Traceback (most recent call last)",
      "\u001b[1;32mc:\\Users\\Inteli\\Documents\\GitHub\\DayllanAlho\\Docker Compose_Fila Kafka\\producer.ipynb Cell 1\u001b[0m line \u001b[0;36m2\n\u001b[0;32m     <a href='vscode-notebook-cell:/c%3A/Users/Inteli/Documents/GitHub/DayllanAlho/Docker%20Compose_Fila%20Kafka/producer.ipynb#W0sZmlsZQ%3D%3D?line=25'>26</a>\u001b[0m         consumer\u001b[39m.\u001b[39mclose()\n\u001b[0;32m     <a href='vscode-notebook-cell:/c%3A/Users/Inteli/Documents/GitHub/DayllanAlho/Docker%20Compose_Fila%20Kafka/producer.ipynb#W0sZmlsZQ%3D%3D?line=27'>28</a>\u001b[0m \u001b[39mif\u001b[39;00m \u001b[39m__name__\u001b[39m \u001b[39m==\u001b[39m \u001b[39m'\u001b[39m\u001b[39m__main__\u001b[39m\u001b[39m'\u001b[39m:\n\u001b[1;32m---> <a href='vscode-notebook-cell:/c%3A/Users/Inteli/Documents/GitHub/DayllanAlho/Docker%20Compose_Fila%20Kafka/producer.ipynb#W0sZmlsZQ%3D%3D?line=28'>29</a>\u001b[0m     main()\n",
      "\u001b[1;32mc:\\Users\\Inteli\\Documents\\GitHub\\DayllanAlho\\Docker Compose_Fila Kafka\\producer.ipynb Cell 1\u001b[0m line \u001b[0;36m1\n\u001b[0;32m      <a href='vscode-notebook-cell:/c%3A/Users/Inteli/Documents/GitHub/DayllanAlho/Docker%20Compose_Fila%20Kafka/producer.ipynb#W0sZmlsZQ%3D%3D?line=3'>4</a>\u001b[0m conf \u001b[39m=\u001b[39m {\n\u001b[0;32m      <a href='vscode-notebook-cell:/c%3A/Users/Inteli/Documents/GitHub/DayllanAlho/Docker%20Compose_Fila%20Kafka/producer.ipynb#W0sZmlsZQ%3D%3D?line=4'>5</a>\u001b[0m     \u001b[39m'\u001b[39m\u001b[39mbootstrap.servers\u001b[39m\u001b[39m'\u001b[39m: \u001b[39m'\u001b[39m\u001b[39mlocalhost:9092\u001b[39m\u001b[39m'\u001b[39m,\n\u001b[0;32m      <a href='vscode-notebook-cell:/c%3A/Users/Inteli/Documents/GitHub/DayllanAlho/Docker%20Compose_Fila%20Kafka/producer.ipynb#W0sZmlsZQ%3D%3D?line=5'>6</a>\u001b[0m     \u001b[39m'\u001b[39m\u001b[39mgroup.id\u001b[39m\u001b[39m'\u001b[39m: \u001b[39m'\u001b[39m\u001b[39mmeu_grupo_consumidor\u001b[39m\u001b[39m'\u001b[39m,\n\u001b[0;32m      <a href='vscode-notebook-cell:/c%3A/Users/Inteli/Documents/GitHub/DayllanAlho/Docker%20Compose_Fila%20Kafka/producer.ipynb#W0sZmlsZQ%3D%3D?line=6'>7</a>\u001b[0m     \u001b[39m'\u001b[39m\u001b[39mauto.offset.reset\u001b[39m\u001b[39m'\u001b[39m: \u001b[39m'\u001b[39m\u001b[39mearliest\u001b[39m\u001b[39m'\u001b[39m,\n\u001b[0;32m      <a href='vscode-notebook-cell:/c%3A/Users/Inteli/Documents/GitHub/DayllanAlho/Docker%20Compose_Fila%20Kafka/producer.ipynb#W0sZmlsZQ%3D%3D?line=7'>8</a>\u001b[0m }\n\u001b[0;32m     <a href='vscode-notebook-cell:/c%3A/Users/Inteli/Documents/GitHub/DayllanAlho/Docker%20Compose_Fila%20Kafka/producer.ipynb#W0sZmlsZQ%3D%3D?line=9'>10</a>\u001b[0m consumer \u001b[39m=\u001b[39m Producer(conf)\n\u001b[1;32m---> <a href='vscode-notebook-cell:/c%3A/Users/Inteli/Documents/GitHub/DayllanAlho/Docker%20Compose_Fila%20Kafka/producer.ipynb#W0sZmlsZQ%3D%3D?line=10'>11</a>\u001b[0m consumer\u001b[39m.\u001b[39;49msubscribe([\u001b[39m'\u001b[39m\u001b[39mbegin\u001b[39m\u001b[39m'\u001b[39m])\n\u001b[0;32m     <a href='vscode-notebook-cell:/c%3A/Users/Inteli/Documents/GitHub/DayllanAlho/Docker%20Compose_Fila%20Kafka/producer.ipynb#W0sZmlsZQ%3D%3D?line=12'>13</a>\u001b[0m \u001b[39mtry\u001b[39;00m:\n\u001b[0;32m     <a href='vscode-notebook-cell:/c%3A/Users/Inteli/Documents/GitHub/DayllanAlho/Docker%20Compose_Fila%20Kafka/producer.ipynb#W0sZmlsZQ%3D%3D?line=13'>14</a>\u001b[0m     \u001b[39mwhile\u001b[39;00m \u001b[39mTrue\u001b[39;00m:\n",
      "\u001b[1;31mAttributeError\u001b[0m: 'cimpl.Producer' object has no attribute 'subscribe'"
     ]
    }
   ],
   "source": [
    "from confluent_kafka import Producer\n",
    "import time\n",
    "\n",
    "def main():\n",
    "    conf = {\n",
    "        'bootstrap.servers': 'localhost:9092',\n",
    "    }\n",
    "\n",
    "    producer = Producer(conf)\n",
    "\n",
    "    while True:\n",
    "        message = input(\"Digite a mensagem para enviar ao Kafka (ou 'sair' para encerrar): \")\n",
    "        \n",
    "        if message == 'sair':\n",
    "            break\n",
    "\n",
    "        producer.produce('begin', value=message)\n",
    "        producer.flush()\n",
    "        time.sleep(1)  # Para garantir que a mensagem foi enviada antes de enviar outra\n",
    "\n",
    "if __name__ == '__main__':\n",
    "    main()"
   ]
  },
  {
   "cell_type": "code",
   "execution_count": 5,
   "metadata": {},
   "outputs": [],
   "source": [
    "\n",
    "def delivery_report(err, msg):\n",
    "    if err is not None:\n",
    "        if err.code() == KafkaError._MSG_TIMED_OUT:\n",
    "            print('Tempo limite excedido ao enviar mensagem para o tópico [{}]'.format(msg.topic()))\n",
    "        else:\n",
    "            print('Erro ao enviar mensagem para o tópico [{}]: {}'.format(msg.topic(), err))\n",
    "    else:\n",
    "        print('Mensagem enviada para tópico [{}]'.format(msg.topic()))\n"
   ]
  },
  {
   "cell_type": "code",
   "execution_count": 6,
   "metadata": {},
   "outputs": [],
   "source": [
    "\n",
    "try:\n",
    "    # Envie uma mensagem para o tópico \"ponderada\"\n",
    "    producer.produce('ponderada', key='chave', value='Ponderada _ SEM2 _ MOD.08', callback=delivery_report)\n",
    "\n",
    "    # Espere até que todos os relatórios de entrega estejam prontos\n",
    "    producer.flush()\n",
    "except Exception as e:\n",
    "    print('Erro ao produzir mensagem: {}'.format(e))"
   ]
  }
 ],
 "metadata": {
  "kernelspec": {
   "display_name": "Python 3",
   "language": "python",
   "name": "python3"
  },
  "language_info": {
   "codemirror_mode": {
    "name": "ipython",
    "version": 3
   },
   "file_extension": ".py",
   "mimetype": "text/x-python",
   "name": "python",
   "nbconvert_exporter": "python",
   "pygments_lexer": "ipython3",
   "version": "3.11.0"
  }
 },
 "nbformat": 4,
 "nbformat_minor": 2
}
